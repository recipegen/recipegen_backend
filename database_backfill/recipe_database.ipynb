{
 "cells": [
  {
   "cell_type": "code",
   "execution_count": 1,
   "metadata": {},
   "outputs": [],
   "source": [
    "import json\n",
    "import time\n",
    "import requests\n",
    "from tqdm import tqdm\n",
    "import concurrent.futures\n",
    "from datetime import datetime\n",
    "from tabulate import tabulate\n",
    "from IPython.display import clear_output\n",
    "from database_connect import get_database\n",
    "from multiprocessing import Process, Lock\n",
    "from recipe import Recipe, RecipeParseException\n",
    "\n",
    "import hello_fresh as hf"
   ]
  },
  {
   "cell_type": "code",
   "execution_count": 2,
   "metadata": {},
   "outputs": [],
   "source": [
    "db = get_database()\n",
    "itm_cats = [\"Produce\", \"Meat\", \"Seafood\", \"Bakery\", \"Dairy\", \"Frozen\", \"Grains\", \"Canned Goods\", \"Dry Goods\", \"Snacks\", \"Sauces\", \"Oils\", \"Spices\", \"Beverages\", \"Other\"]"
   ]
  },
  {
   "cell_type": "code",
   "execution_count": 3,
   "metadata": {},
   "outputs": [],
   "source": [
    "timing_details = {}\n",
    "\n",
    "def start_timing(timing_id, header):\n",
    "    timing_details[timing_id] = {}\n",
    "    timing_details[timing_id]['start'] = datetime.now()\n",
    "    \n",
    "    print(header, flush=True)\n",
    "    \n",
    "def end_timing(timing_id, records, footer):\n",
    "    timing_details[timing_id]['end'] = datetime.now()\n",
    "    timing_details[timing_id]['records'] = records\n",
    "    \n",
    "    elapsed_time = timing_details[timing_id]['end'] - timing_details[timing_id]['start']\n",
    "    iter_time = datetime.now() - datetime.now() if records == 0 else elapsed_time / records\n",
    "    \n",
    "    print(footer, flush=True)\n",
    "    print('Elapsed Time: ' + str(elapsed_time) + '\\tIter Time: ' + str(iter_time), flush=True)"
   ]
  },
  {
   "cell_type": "markdown",
   "metadata": {},
   "source": [
    "# New Entry Process"
   ]
  },
  {
   "cell_type": "markdown",
   "metadata": {},
   "source": [
    "#### Getting All Existing URLs"
   ]
  },
  {
   "cell_type": "code",
   "execution_count": 4,
   "metadata": {},
   "outputs": [
    {
     "name": "stdout",
     "output_type": "stream",
     "text": [
      "Finding All Exisiting URLs\n",
      "Found 12 Existing URLs\n",
      "Elapsed Time: 0:00:00.385416\tIter Time: 0:00:00.032118\n"
     ]
    }
   ],
   "source": [
    "all_urls_old = []\n",
    "\n",
    "start_timing(0, 'Finding All Exisiting URLs')\n",
    "for recipe_details in db.recipe_details.find():\n",
    "    all_urls_old.append(recipe_details['url'])\n",
    "end_timing(0, len(all_urls_old), 'Found ' + str(len(all_urls_old)) + ' Existing URLs')"
   ]
  },
  {
   "cell_type": "markdown",
   "metadata": {},
   "source": [
    "#### Getting All New URLs"
   ]
  },
  {
   "cell_type": "code",
   "execution_count": 5,
   "metadata": {},
   "outputs": [
    {
     "name": "stdout",
     "output_type": "stream",
     "text": [
      "Finding all Hello Fresh URLs\n",
      "0\t/recipes\n",
      "47\t/recipes/american-recipes\n",
      "54\t/recipes/italian-recipes\n",
      "58\t/recipes/asian-recipes\n",
      "58\t/recipes/mediterranean-recipes\n",
      "58\t/recipes/mexican-recipes\n",
      "61\t/recipes/korean-recipes\n",
      "60\t/recipes/indian-recipes\n",
      "59\t/recipes/latin-american-recipes\n",
      "59\t/recipes/chinese-recipes\n",
      "58\t/recipes/spanish-recipes\n",
      "57\t/recipes/japanese-recipes\n",
      "56\t/recipes/thai-recipes\n",
      "56\t/recipes/french-recipes\n",
      "55\t/recipes/cuban-recipes\n",
      "54\t/recipes/african-recipes\n",
      "53\t/recipes/cajun-recipes\n",
      "52\t/recipes/middle-eastern-recipes\n",
      "51\t/recipes/vietnamese-recipes\n",
      "50\t/recipes/hawaiian-recipes\n",
      "49\t/recipes/taco-recipes\n",
      "48\t/recipes/burger-recipes\n",
      "47\t/recipes/pasta-recipes\n",
      "46\t/recipes/bowl-recipes\n",
      "45\t/recipes/flatbread-recipes\n",
      "44\t/recipes/stir-fry-recipes\n",
      "43\t/recipes/meatball-recipes\n",
      "42\t/recipes/noodle-recipes\n",
      "41\t/recipes/risotto-recipes\n",
      "40\t/recipes/skillet-recipes\n",
      "39\t/recipes/soup-recipes\n",
      "38\t/recipes/skewer-recipes\n",
      "37\t/recipes/quesadilla-recipes\n",
      "36\t/recipes/meatloaf-recipes\n",
      "35\t/recipes/fajita-recipes\n",
      "34\t/recipes/enchilada-recipes\n",
      "33\t/recipes/bibimbap-recipes\n",
      "32\t/recipes/burrito-recipes\n",
      "31\t/recipes/sandwich-recipes\n",
      "31\t/recipes/tostada-recipes\n",
      "30\t/recipes/casserole-recipes\n",
      "29\t/recipes/ingredients\n",
      "28\t/recipes/meals\n",
      "27\t/recipes/one-pot-pan-meals\n",
      "26\t/recipes/difficulty\n",
      "25\t/recipes/dietary-lifestyles\n",
      "24\t/recipes/mexican-recipes/tacos\n",
      "23\t/recipes/quick-meals\n",
      "22\t/recipes/easy-recipes\n",
      "21\t/recipes/american-recipes/burgers\n",
      "20\t/recipes/american-recipes/pastas\n",
      "19\t/recipes/american-recipes/bowls\n",
      "18\t/recipes/american-recipes/flatbreads\n",
      "17\t/recipes/american-recipes/meatloaves\n",
      "16\t/recipes/american-recipes/casseroles\n",
      "15\t/recipes/american-recipes/sandwiches\n",
      "14\t/recipes/american-recipes/soups\n",
      "13\t/recipes/italian-recipes/flatbreads\n",
      "12\t/recipes/italian-recipes/meatballs\n",
      "11\t/recipes/italian-recipes/pastas\n",
      "10\t/recipes/italian-recipes/risottos\n",
      "9\t/recipes/italian-recipes/soups\n",
      "8\t/recipes/asian-recipes/bowls\n",
      "7\t/recipes/mediterranean-recipes/bowls\n",
      "6\t/recipes/mexican-recipes/bowls\n",
      "5\t/recipes/mexican-recipes/quesadillas\n",
      "4\t/recipes/mexican-recipes/enchiladas\n",
      "3\t/recipes/mexican-recipes/tostadas\n",
      "2\t/recipes/latin-american-recipes/bowls\n",
      "1\t/recipes/thai-recipes/stir-fries\n",
      "0\t/recipes/dinner-to-lunch\n",
      "Found 821 Hello Fresh URLs\n",
      "Elapsed Time: 0:02:35.752694\tIter Time: 0:00:00.189711\n"
     ]
    }
   ],
   "source": [
    "all_urls_new = []\n",
    "\n",
    "start_timing(1, 'Finding all Hello Fresh URLs')\n",
    "all_urls_hf = hf.find_recipe_urls(verbose=True)\n",
    "all_urls_new.extend(all_urls_hf)\n",
    "end_timing(1, len(all_urls_hf), 'Found ' + str(len(all_urls_hf)) + ' Hello Fresh URLs')"
   ]
  },
  {
   "cell_type": "markdown",
   "metadata": {},
   "source": [
    "#### Consolidating All URLs"
   ]
  },
  {
   "cell_type": "code",
   "execution_count": 6,
   "metadata": {},
   "outputs": [],
   "source": [
    "all_urls = []\n",
    "all_urls.extend(all_urls_old)\n",
    "all_urls.extend(all_urls_new)\n",
    "all_urls = list(set(all_urls))"
   ]
  },
  {
   "cell_type": "markdown",
   "metadata": {},
   "source": [
    "#### Getting Recipes for all Good URLs"
   ]
  },
  {
   "cell_type": "code",
   "execution_count": 7,
   "metadata": {},
   "outputs": [
    {
     "name": "stdout",
     "output_type": "stream",
     "text": [
      "Getting Recipes from All URLs\n"
     ]
    },
    {
     "name": "stderr",
     "output_type": "stream",
     "text": [
      "100%|██████████████████████████████████████████████████████████████████████████████| 821/821 [1:06:34<00:00,  4.87s/it]"
     ]
    },
    {
     "name": "stdout",
     "output_type": "stream",
     "text": [
      "Got Recipes from All URLs: 766/10 URLs have GOOD Recipes\n",
      "Elapsed Time: 1:06:34.950049\tIter Time: 0:06:39.495005\n"
     ]
    },
    {
     "name": "stderr",
     "output_type": "stream",
     "text": [
      "\n"
     ]
    }
   ],
   "source": [
    "def get_recipe(url):\n",
    "    to_return = None\n",
    "    \n",
    "    try:\n",
    "        if 'www.hellofresh.com' in url:\n",
    "            to_return = hf.get_recipe(url)\n",
    "    except RecipeParseException:\n",
    "        pass\n",
    "        \n",
    "    return to_return\n",
    "\n",
    "start_timing(2, 'Getting Recipes from All URLs')\n",
    "with concurrent.futures.ThreadPoolExecutor() as executor:\n",
    "    recipe_list = list(tqdm(executor.map(get_recipe, all_urls), total=len(all_urls), position=0, leave=True))\n",
    "final_recipes = [recipe_list[i] for i in range(len(recipe_list)) if recipe_list[i] is not None]  \n",
    "end_timing(2, len(recipe_list), 'Got Recipes from All URLs: ' + str(len(final_recipes)) + '/' + str(len(recipe_list)) + ' URLs have GOOD Recipes')"
   ]
  },
  {
   "cell_type": "code",
   "execution_count": 10,
   "metadata": {},
   "outputs": [],
   "source": [
    "final_recipes_dict = {'all_recipes': [recipe_obj.get_recipe_dict() for recipe_obj in final_recipes]}\n",
    "\n",
    "with open('temp_recipe_save.json', 'w') as output_file:\n",
    "    json.dump(final_recipes_dict, output_file)"
   ]
  },
  {
   "cell_type": "code",
   "execution_count": 4,
   "metadata": {},
   "outputs": [],
   "source": [
    "def dict_clean(items):\n",
    "    result = {}\n",
    "    for key, value in items:\n",
    "        if value is None:\n",
    "            value = ''\n",
    "        elif value != value:\n",
    "            value = ''\n",
    "        result[key] = value\n",
    "    return result\n",
    "\n",
    "all_recipes_dict = []\n",
    "with open('temp_recipe_save.json', 'r') as input_file:\n",
    "    all_recipes_dict = json.loads(input_file.read(), object_pairs_hook=dict_clean)\n",
    "\n",
    "final_recipes = [Recipe(recipe_dict=recipe_dict) for recipe_dict in all_recipes_dict['all_recipes']]\n",
    "final_recipes_url = [x.get_recipe_details()['url'] for x in final_recipes]"
   ]
  },
  {
   "cell_type": "markdown",
   "metadata": {},
   "source": [
    "#### Removing all Exisiting Recipes that no Longer Exist"
   ]
  },
  {
   "cell_type": "code",
   "execution_count": 5,
   "metadata": {},
   "outputs": [],
   "source": [
    "for recipe_details in db.recipe_details.find():\n",
    "    if recipe_details['url'] not in final_recipes_url:\n",
    "        db.recipe_details.delete_one({'url': recipe_details['url']})\n",
    "        print('Deleted URL:\\t' + recipe_details['url'])"
   ]
  },
  {
   "cell_type": "markdown",
   "metadata": {},
   "source": [
    "#### Manual Check of All NEW Recipes"
   ]
  },
  {
   "cell_type": "code",
   "execution_count": 10,
   "metadata": {},
   "outputs": [],
   "source": [
    "def update_recipe(recipe):\n",
    "    query = {'url': recipe.get_recipe_details()['url']}\n",
    "    insert = recipe.get_recipe_dict()\n",
    "\n",
    "    if db.recipe_details.find_one(query) is not None:\n",
    "        result = db.recipe_details.replace_one(query, insert)\n",
    "    else:\n",
    "        result = db.recipe_details.insert_one(insert)\n",
    "    \n",
    "    return result"
   ]
  },
  {
   "cell_type": "code",
   "execution_count": 11,
   "metadata": {},
   "outputs": [
    {
     "name": "stderr",
     "output_type": "stream",
     "text": [
      "100%|████████████████████████████████████████████████████████████████████████████████| 766/766 [01:08<00:00, 11.14it/s]\n"
     ]
    }
   ],
   "source": [
    "for i in tqdm(range(len(final_recipes))):\n",
    "    update_recipe(final_recipes[i])"
   ]
  },
  {
   "cell_type": "markdown",
   "metadata": {},
   "source": [
    "#### Checking no Duplicates on URL"
   ]
  },
  {
   "cell_type": "code",
   "execution_count": 12,
   "metadata": {},
   "outputs": [
    {
     "data": {
      "text/plain": [
       "True"
      ]
     },
     "execution_count": 12,
     "metadata": {},
     "output_type": "execute_result"
    }
   ],
   "source": [
    "urls_in_database = []\n",
    "for recipe_details in db.recipe_details.find():\n",
    "    urls_in_database.append(recipe_details['url'])\n",
    "    \n",
    "len(urls_in_database) == len(list(set(urls_in_database)))"
   ]
  },
  {
   "cell_type": "code",
   "execution_count": null,
   "metadata": {},
   "outputs": [],
   "source": []
  }
 ],
 "metadata": {
  "kernelspec": {
   "display_name": "Python 3",
   "language": "python",
   "name": "python3"
  },
  "language_info": {
   "codemirror_mode": {
    "name": "ipython",
    "version": 3
   },
   "file_extension": ".py",
   "mimetype": "text/x-python",
   "name": "python",
   "nbconvert_exporter": "python",
   "pygments_lexer": "ipython3",
   "version": "3.7.7"
  }
 },
 "nbformat": 4,
 "nbformat_minor": 4
}
