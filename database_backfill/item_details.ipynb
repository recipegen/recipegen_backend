{
 "cells": [
  {
   "cell_type": "code",
   "execution_count": 2,
   "metadata": {},
   "outputs": [],
   "source": [
    "import json\n",
    "import tkinter as tk\n",
    "from tqdm import tqdm\n",
    "from IPython.display import clear_output\n",
    "from database_connect import get_database"
   ]
  },
  {
   "cell_type": "code",
   "execution_count": 3,
   "metadata": {},
   "outputs": [],
   "source": [
    "db = get_database()"
   ]
  },
  {
   "cell_type": "code",
   "execution_count": 4,
   "metadata": {},
   "outputs": [],
   "source": [
    "def update_item_details(item, category, tags):\n",
    "    query = {'item': str(item).lower()}\n",
    "    insert = {'item': str(item).lower(), 'category': str(category).lower(), 'tags': [str(x).lower() for x in tags]}\n",
    "\n",
    "    if db.item_details.find_one(query) is not None:\n",
    "        result = db.item_details.replace_one(query, insert)\n",
    "    else:\n",
    "        result = db.item_details.insert_one(insert)\n",
    "    \n",
    "    return result"
   ]
  },
  {
   "cell_type": "markdown",
   "metadata": {},
   "source": [
    "### New Entry Process"
   ]
  },
  {
   "cell_type": "code",
   "execution_count": 5,
   "metadata": {},
   "outputs": [
    {
     "name": "stderr",
     "output_type": "stream",
     "text": [
      "760it [00:04, 175.83it/s]\n"
     ]
    }
   ],
   "source": [
    "item_list = []\n",
    "for recipe_details in tqdm(db.recipe_details.find()):\n",
    "    for recipe_item in recipe_details['recipe']:\n",
    "        item_list.append(recipe_item['item'])\n",
    "item_set = list(set(item_list))"
   ]
  },
  {
   "cell_type": "code",
   "execution_count": 6,
   "metadata": {},
   "outputs": [
    {
     "data": {
      "text/plain": [
       "467"
      ]
     },
     "execution_count": 6,
     "metadata": {},
     "output_type": "execute_result"
    }
   ],
   "source": [
    "len(item_set)"
   ]
  },
  {
   "cell_type": "code",
   "execution_count": 15,
   "metadata": {},
   "outputs": [],
   "source": [
    "def get_details(item):\n",
    "    details = {}\n",
    "    \n",
    "    window = tk.Tk()\n",
    "    window.title('My Window')\n",
    "    window.geometry('100x250')\n",
    "\n",
    "    l = tk.Label(window, bg='white', width=20, text=item)\n",
    "    l.pack()\n",
    "    \n",
    "    def update(args):\n",
    "        if category.get() == 'Meat':\n",
    "            vegan.set(0)\n",
    "            vegetarian.set(0)\n",
    "            pescatarian.set(0)\n",
    "        elif category.get() == 'Seafood':\n",
    "            vegan.set(0)\n",
    "            vegetarian.set(0)\n",
    "        elif category.get() == 'Bakery':\n",
    "            vegan.set(0)\n",
    "            gluten_free.set(0)\n",
    "        elif category.get() == 'Dairy':\n",
    "            vegan.set(0)\n",
    "        elif category.get() == 'Grains' or category.get() == 'Dry Goods':\n",
    "            gluten_free.set(0)\n",
    "    \n",
    "    def submit():\n",
    "        details['category'] = category.get()\n",
    "        details['tags'] = []\n",
    "        \n",
    "        if vegan.get() == 1:\n",
    "            details['tags'].append('vegan')\n",
    "        if vegetarian.get() == 1:\n",
    "            details['tags'].append('vegetarian')\n",
    "        if pescatarian.get() == 1:\n",
    "            details['tags'].append('pescatarian')\n",
    "        if gluten_free.get() == 1:\n",
    "            details['tags'].append('gluten free')\n",
    "        window.destroy()\n",
    "\n",
    "    categories = [\"Produce\", \"Meat\", \"Seafood\", \"Bakery\", \"Dairy\", \"Frozen\", \"Grains\", \"Canned Goods\", \"Dry Goods\", \"Snacks\", \"Sauces\", \"Oils\", \"Spices\", \"Beverages\", \"Other\"]\n",
    "    category = tk.StringVar()\n",
    "    vegan = tk.IntVar(value=1)\n",
    "    vegetarian = tk.IntVar(value=1)\n",
    "    pescatarian = tk.IntVar(value=1)\n",
    "    gluten_free = tk.IntVar(value=1)\n",
    "    o = tk.OptionMenu(window, category, *categories, command=update)\n",
    "    o.pack()\n",
    "    c1 = tk.Checkbutton(window, text='Vegan',variable=vegan, onvalue=1, offvalue=0)\n",
    "    c1.pack()\n",
    "    c2 = tk.Checkbutton(window, text='Vegetarian',variable=vegetarian, onvalue=1, offvalue=0)\n",
    "    c2.pack()\n",
    "    c3 = tk.Checkbutton(window, text='Pescatarian',variable=pescatarian, onvalue=1, offvalue=0)\n",
    "    c3.pack()\n",
    "    c4 = tk.Checkbutton(window, text='Gluten Free',variable=gluten_free, onvalue=1, offvalue=0)\n",
    "    c4.pack()\n",
    "    b1 = tk.Button(window, text =\"Submit\", command=submit)\n",
    "    b1.pack()\n",
    "\n",
    "    window.mainloop()\n",
    "    \n",
    "    return details"
   ]
  },
  {
   "cell_type": "code",
   "execution_count": 17,
   "metadata": {},
   "outputs": [
    {
     "name": "stdout",
     "output_type": "stream",
     "text": [
      "467/467\n"
     ]
    }
   ],
   "source": [
    "for i in range(len(item_set)):\n",
    "    if len(list(db.item_details.find({'item': item_set[i]}))) == 0:\n",
    "        clear_output()\n",
    "        print(str(i+1) + '/' + str(len(item_set)))\n",
    "        item_details = get_details(item_set[i])\n",
    "        \n",
    "        if item_details['category'] == '':\n",
    "            for recipe_details in tqdm(db.recipe_details.find()):\n",
    "                for recipe_item in recipe_details['recipe']:\n",
    "                    if recipe_item['item'] == item_set[i]:\n",
    "                        db.recipe_details.delete_one({'url': recipe_details['url']})\n",
    "                        print('Deleted URL:\\t' + recipe_details['url'])\n",
    "                        break\n",
    "        else:\n",
    "            update_item_details(item_set[i], item_details['category'], item_details['tags'])"
   ]
  },
  {
   "cell_type": "code",
   "execution_count": null,
   "metadata": {},
   "outputs": [],
   "source": []
  }
 ],
 "metadata": {
  "kernelspec": {
   "display_name": "Python 3",
   "language": "python",
   "name": "python3"
  },
  "language_info": {
   "codemirror_mode": {
    "name": "ipython",
    "version": 3
   },
   "file_extension": ".py",
   "mimetype": "text/x-python",
   "name": "python",
   "nbconvert_exporter": "python",
   "pygments_lexer": "ipython3",
   "version": "3.7.7"
  }
 },
 "nbformat": 4,
 "nbformat_minor": 4
}
