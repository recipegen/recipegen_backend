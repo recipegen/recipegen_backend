{
 "cells": [
  {
   "cell_type": "code",
   "execution_count": 1,
   "metadata": {},
   "outputs": [],
   "source": [
    "import json\n",
    "from tqdm import tqdm\n",
    "from IPython.display import clear_output\n",
    "from database_connect import get_database"
   ]
  },
  {
   "cell_type": "code",
   "execution_count": 2,
   "metadata": {},
   "outputs": [],
   "source": [
    "db = get_database()"
   ]
  },
  {
   "cell_type": "code",
   "execution_count": 6,
   "metadata": {},
   "outputs": [],
   "source": [
    "def update_item_cat(item, category):\n",
    "    query = {'item': str(item).lower()}\n",
    "    insert = {'item': str(item).lower(), 'category': str(category).lower(), 'reviewed': True}\n",
    "\n",
    "    if db.item_category_map.find_one(query) is not None:\n",
    "        result = db.item_category_map.replace_one(query, insert)\n",
    "    else:\n",
    "        result = db.item_category_map.insert_one(insert)\n",
    "    \n",
    "    return result"
   ]
  },
  {
   "cell_type": "markdown",
   "metadata": {},
   "source": [
    "### Backfill Process"
   ]
  },
  {
   "cell_type": "code",
   "execution_count": 5,
   "metadata": {},
   "outputs": [
    {
     "name": "stdout",
     "output_type": "stream",
     "text": [
      "Item:\tpie crust\n",
      "Category:\tBakery\n"
     ]
    },
    {
     "name": "stdin",
     "output_type": "stream",
     "text": [
      "Accept:\t y\n"
     ]
    }
   ],
   "source": [
    "backfill_document = 'C:/Users/BAB72/OneDrive/Documents/GitHub/recipegen.github.io/scripts/recipe_database/item_category_mapping.json'\n",
    "with open(backfill_document, 'r') as file:\n",
    "    backfill_dict = json.loads(file.readline())\n",
    "    \n",
    "for item in backfill_dict:\n",
    "    clear_output()\n",
    "    print('Item:\\t' + item)\n",
    "    print('Category:\\t' + backfill_dict[item])\n",
    "    accept = input('Accept:\\t')\n",
    "    \n",
    "    if accept.lower() == 'y':\n",
    "        update_item_cat(item, backfill_dict[item])\n",
    "    elif accept.lower() == 'n':\n",
    "        continue\n",
    "    else:\n",
    "        update_item_cat(item, accept)"
   ]
  },
  {
   "cell_type": "code",
   "execution_count": 7,
   "metadata": {},
   "outputs": [
    {
     "name": "stdout",
     "output_type": "stream",
     "text": [
      "{'_id': ObjectId('638f57d8013b2399b4b833ad'), 'item': 'tofu', 'category': 'other'}\n",
      "{'_id': ObjectId('638f57e8013b2399b4b833b5'), 'item': 'eggs', 'category': 'other'}\n",
      "{'_id': ObjectId('638f580d013b2399b4b833c8'), 'item': 'wooden skewers', 'category': 'other'}\n",
      "{'_id': ObjectId('638f5994013b2399b4b8343f'), 'item': 'box', 'category': 'other'}\n",
      "{'_id': ObjectId('638f64c3013b2399b4b83445'), 'item': 'eggs*', 'category': 'other'}\n",
      "{'_id': ObjectId('638f65dc013b2399b4b834b9'), 'item': 'oven-ready aluminum trays', 'category': 'other'}\n",
      "{'_id': ObjectId('638f664a013b2399b4b834de'), 'item': 'silken tofu', 'category': 'other'}\n"
     ]
    }
   ],
   "source": [
    "for item in db.item_category_map.find({'category': 'other'}):\n",
    "    print(item)"
   ]
  },
  {
   "cell_type": "markdown",
   "metadata": {},
   "source": [
    "### New Entry Process"
   ]
  },
  {
   "cell_type": "code",
   "execution_count": 10,
   "metadata": {},
   "outputs": [
    {
     "data": {
      "text/plain": [
       "set()"
      ]
     },
     "execution_count": 10,
     "metadata": {},
     "output_type": "execute_result"
    }
   ],
   "source": [
    "item_list = []\n",
    "for recipe_details in db.recipe_details.find():\n",
    "    for recipe_item in recipe_details['recipe']:\n",
    "        item_list.append(recipe_item['item'])\n",
    "item_set = list(set(item_list))"
   ]
  },
  {
   "cell_type": "code",
   "execution_count": null,
   "metadata": {},
   "outputs": [],
   "source": [
    "for i in range(len(item_set)):\n",
    "    if db.item_category_map.find({'item': item_set[i]}) is None:\n",
    "        clear_output()\n",
    "        print(str(i+1) + '/' + str(len(item_set)))\n",
    "        print('Item:\\t' + item_set[i])\n",
    "        category = input('Category:\\t')\n",
    "\n",
    "        if category.lower() == 'n':\n",
    "            continue\n",
    "        else:\n",
    "            update_item_cat(item, category)"
   ]
  }
 ],
 "metadata": {
  "kernelspec": {
   "display_name": "Python 3",
   "language": "python",
   "name": "python3"
  },
  "language_info": {
   "codemirror_mode": {
    "name": "ipython",
    "version": 3
   },
   "file_extension": ".py",
   "mimetype": "text/x-python",
   "name": "python",
   "nbconvert_exporter": "python",
   "pygments_lexer": "ipython3",
   "version": "3.7.7"
  }
 },
 "nbformat": 4,
 "nbformat_minor": 4
}
